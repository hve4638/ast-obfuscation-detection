{
 "cells": [
  {
   "cell_type": "code",
   "execution_count": 57,
   "metadata": {},
   "outputs": [],
   "source": [
    "import numpy as np\n",
    "import pandas as pd\n",
    "import os\n",
    "import csv, json\n",
    "import math\n",
    "import re\n",
    "from PIL import Image\n",
    "\n",
    "from collections import Counter"
   ]
  },
  {
   "cell_type": "code",
   "execution_count": 58,
   "metadata": {},
   "outputs": [],
   "source": [
    "dataset_path = [\n",
    "    '../dataset/validation_original(csv)/powershell.csv',\n",
    "    '../dataset/validation_original(csv)/sample.csv',\n",
    "]"
   ]
  },
  {
   "cell_type": "code",
   "execution_count": null,
   "metadata": {},
   "outputs": [],
   "source": [
    "import re\n",
    "#A = re.compile(r'')\n",
    "\n",
    "def rc_block(code):\n",
    "    return re.sub(r'<#.*?#>', '', code, flags=re.DOTALL)\n",
    "\n",
    "def rc_line(code):\n",
    "    return re.sub(r'#.*', '', code)"
   ]
  },
  {
   "cell_type": "code",
   "execution_count": 60,
   "metadata": {},
   "outputs": [],
   "source": [
    "import re\n",
    "\n",
    "def splitregex(text, pattern):\n",
    "    pos = 0\n",
    "    lastpos = len(text)\n",
    "    splited = []\n",
    "    for m in re.finditer(pattern, text):\n",
    "        if pos < m.start():\n",
    "            splited.append(text[pos:m.start()])\n",
    "        splited.append(m.group())\n",
    "        pos = m.end()\n",
    "    if pos < lastpos:\n",
    "        splited.append(text[pos:lastpos])\n",
    "    return splited\n",
    "\n",
    "RE_PS = re.compile(r'@\"|@\\'|\"|\\'|<#|#>|#|\\n')\n",
    "def rc_full(text):\n",
    "    ignore_until = None\n",
    "    discard_until = None\n",
    "    group = splitregex(text, RE_PS)\n",
    "\n",
    "    remain_text = []\n",
    "    for g in group:\n",
    "        if ignore_until is not None:\n",
    "            if g == ignore_until:\n",
    "                ignore_until = None\n",
    "            remain_text.append(g)\n",
    "        elif discard_until is not None:\n",
    "            if g == discard_until:\n",
    "                discard_until = None\n",
    "        else:\n",
    "            match g:\n",
    "                case '\"':\n",
    "                    ignore_until = '\"'\n",
    "                    remain_text.append(g)\n",
    "                case \"'\":\n",
    "                    ignore_until = \"'\"\n",
    "                    remain_text.append(g)\n",
    "                case '<#':\n",
    "                    discard_until = '#>'\n",
    "                case '#':\n",
    "                    discard_until = '\\n'\n",
    "                case _:\n",
    "                    remain_text.append(g)\n",
    "    return ''.join(remain_text)\n"
   ]
  },
  {
   "cell_type": "code",
   "execution_count": 67,
   "metadata": {},
   "outputs": [],
   "source": [
    "def proc_rawcode(rawcode:str, hint):\n",
    "    code = rc_full(rawcode)\n",
    "    if len(code) != len(rawcode):\n",
    "        print(f'#{hint['index']} {hint['row']['filename']}')\n",
    "    return code"
   ]
  },
  {
   "cell_type": "code",
   "execution_count": 68,
   "metadata": {},
   "outputs": [
    {
     "name": "stdout",
     "output_type": "stream",
     "text": [
      "Processing ../dataset/validation_original(csv)/powershell.csv...\n",
      "#24 #_130_195bc776faf3a7509fbc9eaadd627e644907cf9a5b97510f495a12722dd56def.ps1\n",
      "#29 #_136_1a1060a13985a9b8ccf9b51751d9de6ef969b5f34955735571162f654320b846.ps1\n",
      "#93 #_20_03c3b71b2ad10276aa9e428e0c63bd3574131b85df8717607aae252a67aad0d7.ps1\n",
      "#103 #_223_21c3648528da1269e5c07953ecda47853aa30cd49b82a03df3972e8fad958291.ps1\n",
      "#104 #_224_21c5234439376dc4caecb30016b0877ef4479301681a10ae1d9bd75060d947e4.ps1\n",
      "#118 #_243_22a8b4a7c7a467ea7fcf0a3930c99ecb482095093839683b400f58e2cdda176f.ps1\n",
      "#153 #_27_04d66f2a208b0cdf66c41892f80618fc5142ec99e8314745e6cc7078552737f1.ps1\n",
      "#192 #_323_282e79b30bad1c26ba96ebe6591b12788f8f5f892b07133f1c50ce1be1c65207.ps1\n",
      "#204 #_342_29d58416b991f68e525ac735b73b06c4eea306d71542d79936c4851744dd5ac3.ps1\n",
      "#216 #_35_071f027f09d3855e4553b589f22491c18876787377ecb305e8892749cc4364d4.ps1\n",
      "#249 #_412_2d877b8166093c432785435e15c721f3a5c98351812971b430bcf8ab87e4c5a0.ps1\n",
      "#332 #_531_35a939664efa46d1a7249b0a98538c6ee333a0be34b4ab6ffd21d1223e80e586.ps1\n",
      "Processing ../dataset/validation_original(csv)/sample.csv...\n",
      "#1 0162b07a6c1eb52866aacf544a834087753f773232f161fe516e31980e4ad533-obf-out-encodedspecialcharonlycommand.ps1\n",
      "#5 07f375cb53ca2275e741e46a0b58739ac1c4a6862f9afded3315a26cb256e584-obf-out-encodedspecialcharonlycommand.ps1\n",
      "#15 1afa55af7c4a24da8651d273202024889d5766637d58a73e93f28afebf013b37-obf-out-obfuscatedast.ps1\n",
      "#17 1eb36118db77add8d02a92447219c34cff698dbfef4fd02ad35cd7b1c7757472-obf-out-obfuscatedast.ps1\n",
      "#60 7393edcb69caf1a443a1cc150b658221d9dd9263d7cbae206bf034f9d4a61631-obf-out-encodedspecialcharonlycommand.ps1\n",
      "#99 b59d8a7d8c3891d10f2b992ec727a4f3f838e865e5b16aa0b7fb40dacf47ced8-obf-out-obfuscatedast.ps1\n",
      "#101 b8ec1a0495962b05845ef9f29ced438ef89edfceabe92b0caa5f04e67292e057-obf-out-encodedspecialcharonlycommand.ps1\n",
      "#106 bf53abc91f3ced1ab18d1eddee027e002f55bd65df76390c34008ab56d7c04b4-obf-out-encodedspecialcharonlycommand.ps1\n",
      "#108 c309bf6df2e9ed89a58607972bf86c27e38b4fb527a5e85fcf0e32960c788758-obf-out-encodedspecialcharonlycommand.ps1\n",
      "#130 e5591c84f55cf1767f870bc5734aaa7d398a46eac0016b88ca5a31b4424f8e41-obf-out-obfuscatedast.ps1\n"
     ]
    }
   ],
   "source": [
    "for filename in dataset_path:\n",
    "    print(f'Processing {filename}...')\n",
    "    dataset = pd.read_csv(filename)\n",
    "    rows = dataset['bytes'][:]\n",
    "    \n",
    "    output_rows = []\n",
    "    for i, row in enumerate(rows):\n",
    "        rawcode = bytes(json.loads(row)).decode('utf-8')\n",
    "        processed = proc_rawcode(rawcode, { 'index': i, 'row': dataset.iloc[i] })\n",
    "        processed_code = json.dumps(list(processed.encode('utf-8')))\n",
    "        output_rows.append({\n",
    "            'path' : dataset['path'][i],\n",
    "            'filename' : dataset['filename'][i],\n",
    "            'bytes': processed_code,\n",
    "        })\n",
    "    output_df = pd.DataFrame(output_rows)\n",
    "\n",
    "    output_dirname, output_filename = os.path.split(filename)\n",
    "    \n",
    "    output_path = f'{output_dirname}/rc_{output_filename}'\n",
    "    output_df.to_csv(output_path, index=False)\n",
    "    "
   ]
  },
  {
   "cell_type": "code",
   "execution_count": null,
   "metadata": {},
   "outputs": [],
   "source": []
  }
 ],
 "metadata": {
  "kernelspec": {
   "display_name": "venv",
   "language": "python",
   "name": "python3"
  },
  "language_info": {
   "codemirror_mode": {
    "name": "ipython",
    "version": 3
   },
   "file_extension": ".py",
   "mimetype": "text/x-python",
   "name": "python",
   "nbconvert_exporter": "python",
   "pygments_lexer": "ipython3",
   "version": "3.12.6"
  }
 },
 "nbformat": 4,
 "nbformat_minor": 2
}
