{
 "cells": [
  {
   "cell_type": "code",
   "execution_count": 34,
   "metadata": {},
   "outputs": [],
   "source": [
    "import numpy as np\n",
    "import pandas as pd\n",
    "import os\n",
    "import csv, json\n",
    "import math\n",
    "import re\n",
    "from PIL import Image\n",
    "\n",
    "from collections import Counter"
   ]
  },
  {
   "cell_type": "code",
   "execution_count": 92,
   "metadata": {},
   "outputs": [],
   "source": [
    "normal_dataset_path = [\n",
    "    '../dataset/CSV\\\\invokeCradleCrafter.csv',\n",
    "    '../dataset/CSV\\\\InvokeObfuscation.csv',\n",
    "    '../dataset/CSV\\\\IseSteroids.csv',\n",
    "]\n",
    "attack_dataset_path = [\n",
    "    '../dataset/attack_decoded.csv',\n",
    "    '../dataset/attack_original.csv'\n",
    "]"
   ]
  },
  {
   "cell_type": "code",
   "execution_count": 93,
   "metadata": {},
   "outputs": [],
   "source": [
    "def rc_block(code):\n",
    "    return re.sub(r'<#.*?#>', '', code, flags=re.DOTALL)\n",
    "\n",
    "def rc_line(code):\n",
    "    return re.sub(r'#.*?', '', code)"
   ]
  },
  {
   "cell_type": "code",
   "execution_count": 94,
   "metadata": {},
   "outputs": [],
   "source": [
    "def proc_rawcode(filename, i, rawcode:str):\n",
    "    if '#' in rawcode:\n",
    "        print(f'#{i} {filename}')\n",
    "        #print(rawcode)\n",
    "        code = rc_line(rc_block(rawcode))\n",
    "        return code\n",
    "    else:\n",
    "        return rawcode"
   ]
  },
  {
   "cell_type": "code",
   "execution_count": 95,
   "metadata": {},
   "outputs": [
    {
     "name": "stdout",
     "output_type": "stream",
     "text": [
      "#14 ../dataset/attack_decoded.csv\n",
      "#148 ../dataset/attack_decoded.csv\n",
      "#152 ../dataset/attack_decoded.csv\n",
      "#160 ../dataset/attack_decoded.csv\n",
      "#264 ../dataset/attack_decoded.csv\n",
      "#326 ../dataset/attack_decoded.csv\n",
      "#469 ../dataset/attack_decoded.csv\n",
      "#479 ../dataset/attack_decoded.csv\n",
      "#503 ../dataset/attack_decoded.csv\n",
      "#551 ../dataset/attack_decoded.csv\n",
      "#553 ../dataset/attack_decoded.csv\n",
      "#620 ../dataset/attack_decoded.csv\n",
      "#755 ../dataset/attack_decoded.csv\n",
      "#794 ../dataset/attack_decoded.csv\n",
      "#888 ../dataset/attack_decoded.csv\n",
      "#901 ../dataset/attack_decoded.csv\n",
      "#1064 ../dataset/attack_decoded.csv\n",
      "#1076 ../dataset/attack_decoded.csv\n",
      "#1093 ../dataset/attack_decoded.csv\n",
      "#1112 ../dataset/attack_decoded.csv\n",
      "#1241 ../dataset/attack_decoded.csv\n",
      "#1242 ../dataset/attack_decoded.csv\n",
      "#1253 ../dataset/attack_decoded.csv\n",
      "#1257 ../dataset/attack_decoded.csv\n",
      "#1294 ../dataset/attack_decoded.csv\n",
      "#1335 ../dataset/attack_decoded.csv\n",
      "#1342 ../dataset/attack_decoded.csv\n",
      "#1359 ../dataset/attack_decoded.csv\n",
      "#1378 ../dataset/attack_decoded.csv\n",
      "#1393 ../dataset/attack_decoded.csv\n",
      "#1546 ../dataset/attack_decoded.csv\n",
      "#1553 ../dataset/attack_decoded.csv\n",
      "#1640 ../dataset/attack_decoded.csv\n",
      "#1647 ../dataset/attack_decoded.csv\n",
      "#1661 ../dataset/attack_decoded.csv\n",
      "#1784 ../dataset/attack_decoded.csv\n",
      "#1825 ../dataset/attack_decoded.csv\n",
      "#1840 ../dataset/attack_decoded.csv\n",
      "#1920 ../dataset/attack_decoded.csv\n",
      "#1929 ../dataset/attack_decoded.csv\n",
      "#1973 ../dataset/attack_decoded.csv\n",
      "#2020 ../dataset/attack_decoded.csv\n",
      "#2083 ../dataset/attack_decoded.csv\n",
      "#2162 ../dataset/attack_decoded.csv\n",
      "#2166 ../dataset/attack_decoded.csv\n",
      "#2225 ../dataset/attack_decoded.csv\n",
      "#2248 ../dataset/attack_decoded.csv\n",
      "#2272 ../dataset/attack_decoded.csv\n",
      "#2344 ../dataset/attack_decoded.csv\n",
      "#2527 ../dataset/attack_decoded.csv\n",
      "#2542 ../dataset/attack_decoded.csv\n",
      "#2592 ../dataset/attack_decoded.csv\n",
      "#2655 ../dataset/attack_decoded.csv\n"
     ]
    }
   ],
   "source": [
    "for filename in attack_dataset_path:\n",
    "    dataset = pd.read_csv(filename)\n",
    "    rows = dataset['bytes'][:]\n",
    "    \n",
    "    output_rows = []\n",
    "    for i, row in enumerate(rows):\n",
    "        rawcode = bytes(json.loads(row)).decode('utf-8')\n",
    "        processed = proc_rawcode(filename, i, rawcode)\n",
    "        processed_code = json.dumps(list(processed.encode('utf-8')))\n",
    "        output_rows.append({\n",
    "            'path' : dataset['path'][i],\n",
    "            'filename' : dataset['filename'][i],\n",
    "            'bytes': processed_code,\n",
    "        })\n",
    "    output_df = pd.DataFrame(output_rows)\n",
    "\n",
    "    output_dirname, output_filename = os.path.split(filename)\n",
    "    \n",
    "    output_path = f'{output_dirname}/rc_{output_filename}'\n",
    "    output_df.to_csv(output_path, index=False)\n",
    "    "
   ]
  },
  {
   "cell_type": "code",
   "execution_count": null,
   "metadata": {},
   "outputs": [],
   "source": []
  }
 ],
 "metadata": {
  "kernelspec": {
   "display_name": "venv",
   "language": "python",
   "name": "python3"
  },
  "language_info": {
   "codemirror_mode": {
    "name": "ipython",
    "version": 3
   },
   "file_extension": ".py",
   "mimetype": "text/x-python",
   "name": "python",
   "nbconvert_exporter": "python",
   "pygments_lexer": "ipython3",
   "version": "3.12.6"
  }
 },
 "nbformat": 4,
 "nbformat_minor": 2
}
