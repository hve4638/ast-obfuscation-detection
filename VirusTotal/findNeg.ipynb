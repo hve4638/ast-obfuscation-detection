{
 "cells": [
  {
   "cell_type": "code",
   "execution_count": 1,
   "metadata": {},
   "outputs": [],
   "source": [
    "import numpy as np\n",
    "import pandas as pd\n",
    "import os\n",
    "import csv, json\n",
    "import math\n",
    "import re\n",
    "\n",
    "from collections import Counter"
   ]
  },
  {
   "cell_type": "code",
   "execution_count": 2,
   "metadata": {},
   "outputs": [],
   "source": [
    "class Stop(Exception):\n",
    "    pass\n",
    "\n",
    "class Continue(Exception):\n",
    "    pass"
   ]
  },
  {
   "cell_type": "code",
   "execution_count": 3,
   "metadata": {},
   "outputs": [],
   "source": [
    "# main 템플릿\n",
    "\n",
    "def main(callback, *,\n",
    "         files=None,\n",
    "         dirs=None,\n",
    "         dirs_filter=lambda x: True\n",
    "         ):\n",
    "    index:int = 0\n",
    "    if files:\n",
    "        for filename in files:\n",
    "            try:\n",
    "                callback(index, filename)\n",
    "            except Continue:\n",
    "                pass\n",
    "            except Stop:\n",
    "                return 0\n",
    "            finally:\n",
    "                index += 1\n",
    "    if dirs:\n",
    "        for d in dirs:\n",
    "            for dirpath, _, filenames in os.walk(d):\n",
    "                for filename in filenames:\n",
    "                    target = os.path.join(dirpath, filename)\n",
    "                    if not dirs_filter(target):\n",
    "                        continue\n",
    "                    try:\n",
    "                        callback(index, target)\n",
    "                    except Continue:\n",
    "                        pass\n",
    "                    except Stop:\n",
    "                        return 0\n",
    "                    finally:\n",
    "                        index += 1"
   ]
  },
  {
   "cell_type": "code",
   "execution_count": 5,
   "metadata": {},
   "outputs": [],
   "source": [
    "OUTPUT_PATH = '../export/scaled'\n",
    "\n",
    "dirs = [\n",
    "    '../dataset/VT',\n",
    "]\n",
    "\n",
    "def dirs_filter(target:str):\n",
    "    if target.endswith('.json'):\n",
    "        return True\n",
    "    return False"
   ]
  },
  {
   "cell_type": "code",
   "execution_count": 16,
   "metadata": {},
   "outputs": [],
   "source": [
    "pos = 0\n",
    "neg = 0\n",
    "\n",
    "def proc(index:int, target:str):\n",
    "    global pos, neg\n",
    "    with open(target, 'r', encoding='utf-8') as f:\n",
    "        data = json.load(f)\n",
    "    positives = data['positives']\n",
    "    if positives == 0:\n",
    "        print(target)\n",
    "        neg += 1\n",
    "    else:\n",
    "        pos += 1"
   ]
  },
  {
   "cell_type": "code",
   "execution_count": null,
   "metadata": {},
   "outputs": [
    {
     "name": "stdout",
     "output_type": "stream",
     "text": [
      "../dataset/VT\\#1048_532d427c47c9f2dca21e4889942354f1bc52b96f9c5fcdaa176902c68f2183fa.bin.txt.json\n",
      "../dataset/VT\\#1096_5760dc4504dd0ae2f2dc26b4c515ae0ad843d7419b5ee8d1b32858ef79c5f543.bin.txt.json\n",
      "../dataset/VT\\#1260_65a512e032314a2c3e38b1630beef5c6a91182ba4dff9b767713061f981ec66d.bin.txt.json\n",
      "../dataset/VT\\#1297_696531571c099641a4eab6753e88e53faffd30807c5b60bd2669a95a99c7954f.bin.txt.json\n",
      "../dataset/VT\\#1314_6b0d3be5d25a0743f07047028750b26b784d28ae5c6baa79ee4b118fb359be9d.bin.txt.json\n",
      "../dataset/VT\\#1323_6bdf4647d2a6dd60ad793e3f181fff4c9e47aec6428b2b9e52978c68343ae6c6.bin.txt.json\n",
      "../dataset/VT\\#1360_6e56f34326676bb008fca115ac8cddad9cf5faa341fc7cd068b875edc40b7d37.bin.txt.json\n",
      "../dataset/VT\\#1361_6e6ef74b7828ed052ab82d73d9ab3542ddaf1a114fbebb8625af33a3f67e6c37.bin.txt.json\n",
      "../dataset/VT\\#138_0b12d6facfbcf81997c7ed0e273159721d4fc440bec8f9be7fe56006c50cc61d.bin.txt.json\n",
      "../dataset/VT\\#1456_76173f298c91eb1fdb2d096378a1995d8a1a35883acfdcb42dac223b6b13013a.bin.txt.json\n",
      "Positive : 382\n",
      "Negative : 10\n"
     ]
    }
   ],
   "source": [
    "main(proc, dirs=dirs, dirs_filter=dirs_filter)\n",
    "print('Positive :', pos)\n",
    "print('Negative :', neg)\n",
    "print(neg / (pos + neg) * 100, '%')"
   ]
  },
  {
   "cell_type": "code",
   "execution_count": null,
   "metadata": {},
   "outputs": [
    {
     "data": {
      "text/plain": [
       "('1234', '')"
      ]
     },
     "execution_count": 24,
     "metadata": {},
     "output_type": "execute_result"
    }
   ],
   "source": []
  },
  {
   "cell_type": "code",
   "execution_count": null,
   "metadata": {},
   "outputs": [],
   "source": []
  }
 ],
 "metadata": {
  "kernelspec": {
   "display_name": "venv",
   "language": "python",
   "name": "python3"
  },
  "language_info": {
   "codemirror_mode": {
    "name": "ipython",
    "version": 3
   },
   "file_extension": ".py",
   "mimetype": "text/x-python",
   "name": "python",
   "nbconvert_exporter": "python",
   "pygments_lexer": "ipython3",
   "version": "3.12.6"
  }
 },
 "nbformat": 4,
 "nbformat_minor": 2
}
