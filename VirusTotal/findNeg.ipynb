{
 "cells": [
  {
   "cell_type": "code",
   "execution_count": 2,
   "metadata": {},
   "outputs": [],
   "source": [
    "import numpy as np\n",
    "import pandas as pd\n",
    "import os\n",
    "import csv, json\n",
    "import math\n",
    "import re\n",
    "\n",
    "from collections import Counter"
   ]
  },
  {
   "cell_type": "code",
   "execution_count": 3,
   "metadata": {},
   "outputs": [],
   "source": [
    "class Stop(Exception):\n",
    "    pass"
   ]
  },
  {
   "cell_type": "code",
   "execution_count": 4,
   "metadata": {},
   "outputs": [],
   "source": [
    "# main 템플릿\n",
    "\n",
    "def main(callback, *,\n",
    "         files=None,\n",
    "         dirs=None,\n",
    "         dirs_filter=lambda x: True\n",
    "         ):\n",
    "    index:int = 0\n",
    "    if files:\n",
    "        for filename in files:\n",
    "            try:\n",
    "                callback(index, filename)\n",
    "            except Stop:\n",
    "                return 0\n",
    "            finally:\n",
    "                index += 1\n",
    "    if dirs:\n",
    "        for d in dirs:\n",
    "            for dirpath, _, filenames in os.walk(d):\n",
    "                for filename in filenames:\n",
    "                    target = os.path.join(dirpath, filename)\n",
    "                    if not dirs_filter(target):\n",
    "                        continue\n",
    "                    try:\n",
    "                        callback(index, target)\n",
    "                    except Stop:\n",
    "                        return 0\n",
    "                    finally:\n",
    "                        index += 1"
   ]
  },
  {
   "cell_type": "code",
   "execution_count": 5,
   "metadata": {},
   "outputs": [],
   "source": [
    "OUTPUT_PATH = '../export/scaled'\n",
    "\n",
    "dirs = [\n",
    "    '../dataset/VT',\n",
    "]\n",
    "\n",
    "def dirs_filter(target:str):\n",
    "    if target.endswith('.json'):\n",
    "        return True\n",
    "    return False"
   ]
  },
  {
   "cell_type": "code",
   "execution_count": 19,
   "metadata": {},
   "outputs": [],
   "source": [
    "from collections import Counter\n",
    "\n",
    "pos = 0\n",
    "neg = 0\n",
    "positivies_ls = []\n",
    "\n",
    "def proc(index:int, target:str):\n",
    "    global pos, neg\n",
    "    with open(target, 'r', encoding='utf-8') as f:\n",
    "        data = json.load(f)\n",
    "    positives = data['positives']\n",
    "    positivies_ls.append(positives)\n",
    "    if positives <= 15:\n",
    "        #print(target)\n",
    "        neg += 1\n",
    "    else:\n",
    "        pos += 1"
   ]
  },
  {
   "cell_type": "code",
   "execution_count": 20,
   "metadata": {},
   "outputs": [
    {
     "name": "stdout",
     "output_type": "stream",
     "text": [
      "Positive : 341\n",
      "Negative : 51\n",
      "13.010204081632654 %\n"
     ]
    }
   ],
   "source": [
    "main(proc, dirs=dirs, dirs_filter=dirs_filter)\n",
    "\n",
    "counter = Counter(positivies_ls)\n",
    "\n",
    "print('Positive :', pos)\n",
    "print('Negative :', neg)\n",
    "print(neg / (pos + neg) * 100, '%')"
   ]
  },
  {
   "cell_type": "code",
   "execution_count": 14,
   "metadata": {},
   "outputs": [
    {
     "name": "stdout",
     "output_type": "stream",
     "text": [
      "25, 72\n",
      "30, 41\n",
      "29, 33\n",
      "31, 33\n",
      "28, 31\n",
      "34, 22\n",
      "24, 16\n",
      "33, 14\n",
      "27, 14\n",
      "23, 12\n",
      "22, 11\n",
      "26, 10\n",
      "0, 10\n",
      "19, 7\n",
      "10, 7\n",
      "32, 6\n",
      "35, 6\n",
      "3, 5\n",
      "16, 5\n",
      "21, 4\n",
      "4, 4\n",
      "9, 4\n",
      "8, 4\n",
      "5, 3\n",
      "2, 3\n",
      "6, 3\n",
      "14, 3\n",
      "36, 2\n",
      "1, 2\n",
      "20, 1\n",
      "13, 1\n",
      "39, 1\n",
      "15, 1\n",
      "7, 1\n"
     ]
    }
   ],
   "source": [
    "for positives, many in counter.most_common():\n",
    "    print(f'{positives}, {many}')\n",
    "#print(counter)"
   ]
  },
  {
   "cell_type": "code",
   "execution_count": null,
   "metadata": {},
   "outputs": [],
   "source": []
  }
 ],
 "metadata": {
  "kernelspec": {
   "display_name": "venv",
   "language": "python",
   "name": "python3"
  },
  "language_info": {
   "codemirror_mode": {
    "name": "ipython",
    "version": 3
   },
   "file_extension": ".py",
   "mimetype": "text/x-python",
   "name": "python",
   "nbconvert_exporter": "python",
   "pygments_lexer": "ipython3",
   "version": "3.12.6"
  }
 },
 "nbformat": 4,
 "nbformat_minor": 2
}
