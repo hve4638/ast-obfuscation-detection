{
 "cells": [
  {
   "cell_type": "code",
   "execution_count": 10,
   "metadata": {},
   "outputs": [
    {
     "data": {
      "text/plain": [
       "'1.26.4'"
      ]
     },
     "execution_count": 10,
     "metadata": {},
     "output_type": "execute_result"
    }
   ],
   "source": [
    "import numpy as np\n",
    "import os\n",
    "np.__version__"
   ]
  },
  {
   "cell_type": "code",
   "execution_count": 6,
   "metadata": {},
   "outputs": [],
   "source": [
    "def calculate_joint_probability(byte_array):\n",
    "    total_count = np.sum(byte_array)\n",
    "\n",
    "    # probability of each byte : P(X)\n",
    "    P_X = byte_array / total_count\n",
    "\n",
    "    # Calculate the entropy H(X) using Shannon entropy formula\n",
    "    P_X_nonzero = P_X[P_X > 0]  # Ignore zero probabilities\n",
    "\n",
    "    H_X = -np.sum(P_X_nonzero * np.log2(P_X_nonzero))\n",
    "\n",
    "    # Calculate the joint probability P(H, X) as P(X) * P(H|X)\n",
    "    # Here we assume P(H|X) is proportional to H(X) for simplicity.\n",
    "    # P(H|X) would typically be derived from a conditional distribution, but we use this approach here.\n",
    "    P_H_given_X = P_X * H_X  # Simplified model for illustration\n",
    "    print(P_X.shape)\n",
    "    print(H_X)\n",
    "\n",
    "    P_H_X = P_X * P_H_given_X\n",
    "\n",
    "    return P_H_X"
   ]
  },
  {
   "cell_type": "code",
   "execution_count": 9,
   "metadata": {},
   "outputs": [
    {
     "data": {
      "text/plain": [
       "array([10,  2, 30])"
      ]
     },
     "execution_count": 9,
     "metadata": {},
     "output_type": "execute_result"
    }
   ],
   "source": [
    "np.array([1,2,3]) * np.array([10, 1, 10])"
   ]
  },
  {
   "cell_type": "code",
   "execution_count": 21,
   "metadata": {},
   "outputs": [
    {
     "name": "stdout",
     "output_type": "stream",
     "text": [
      "['app.py', 'entropy.py', 'extract.py', 'normalize.py', 'utils.py']\n"
     ]
    }
   ],
   "source": [
    "for dirpath, _, filenames in os.walk('./'):\n",
    "    print([filename for filename in filter(lambda x: x.endswith('.py'), filenames)])"
   ]
  }
 ],
 "metadata": {
  "kernelspec": {
   "display_name": "venv",
   "language": "python",
   "name": "python3"
  },
  "language_info": {
   "codemirror_mode": {
    "name": "ipython",
    "version": 3
   },
   "file_extension": ".py",
   "mimetype": "text/x-python",
   "name": "python",
   "nbconvert_exporter": "python",
   "pygments_lexer": "ipython3",
   "version": "3.12.6"
  }
 },
 "nbformat": 4,
 "nbformat_minor": 2
}
