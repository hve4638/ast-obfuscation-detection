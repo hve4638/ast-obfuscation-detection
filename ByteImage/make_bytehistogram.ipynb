{
 "cells": [
  {
   "cell_type": "code",
   "execution_count": 69,
   "metadata": {},
   "outputs": [],
   "source": [
    "import numpy as np\n",
    "import pandas as pd\n",
    "import os\n",
    "import csv, json\n",
    "import math\n",
    "from PIL import Image\n",
    "\n",
    "from collections import Counter"
   ]
  },
  {
   "cell_type": "code",
   "execution_count": 64,
   "metadata": {},
   "outputs": [],
   "source": [
    "import utils"
   ]
  },
  {
   "cell_type": "code",
   "execution_count": null,
   "metadata": {},
   "outputs": [],
   "source": [
    "WINDOW_SIZE = 1024\n",
    "STEP_SIZE = 512"
   ]
  },
  {
   "cell_type": "code",
   "execution_count": 61,
   "metadata": {},
   "outputs": [],
   "source": [
    "DATASET_ATTACK = '../dataset/attack_decoded.csv'\n",
    "DATASET_NORMAL = '../dataset/normalast.csv'\n",
    "\n",
    "EXPORT_PATH = '../export'"
   ]
  },
  {
   "cell_type": "code",
   "execution_count": 106,
   "metadata": {},
   "outputs": [],
   "source": [
    "def get_byte_entropy(byte_array):\n",
    "    total_count = np.sum(byte_array)\n",
    "\n",
    "    # P(X)\n",
    "    P_X = byte_array / total_count\n",
    "\n",
    "    # 엔트로피 H(X)를 계산\n",
    "    # Shannon 엔트로피 공식 사용\n",
    "    P_X_nonzero = P_X[P_X > 0]\n",
    "    H_X = -np.sum(P_X_nonzero * np.log2(P_X_nonzero))\n",
    "\n",
    "    P_H_given_X = P_X * H_X\n",
    "    P_H_X = P_X * P_H_given_X\n",
    "\n",
    "    return P_H_X"
   ]
  },
  {
   "cell_type": "code",
   "execution_count": null,
   "metadata": {},
   "outputs": [],
   "source": [
    "def export_image(filename:str, pixel1d, size=16):\n",
    "    pixels = [pixel1d[i * size:(i + 1) * size] for i in range(size)]\n",
    "    \n",
    "    final_image = Image.fromarray(np.array(pixels, dtype=np.uint8), 'L')\n",
    "    final_image.save(filename)"
   ]
  },
  {
   "cell_type": "code",
   "execution_count": 203,
   "metadata": {},
   "outputs": [],
   "source": [
    "SIZE = 16\n",
    "\n",
    "def export_image(filename, pixel1d:np.ndarray):\n",
    "    pixel2d = [pixel1d[i * SIZE:(i + 1) * SIZE] for i in range(SIZE)]\n",
    "\n",
    "    final_image = Image.fromarray(np.array(pixel2d, dtype=np.uint8), 'L')\n",
    "    final_image.save(filename)"
   ]
  },
  {
   "cell_type": "code",
   "execution_count": 192,
   "metadata": {},
   "outputs": [],
   "source": [
    "def debug_minmax(target, message):\n",
    "    print(message)\n",
    "    print('min:', np.min(target))\n",
    "    print('max:', np.max(target))"
   ]
  },
  {
   "cell_type": "code",
   "execution_count": 201,
   "metadata": {},
   "outputs": [],
   "source": [
    "def normalize_minmax(arr:np.ndarray)->np.ndarray:\n",
    "    min_val = np.min(arr)\n",
    "    max_val = np.max(arr)\n",
    "    normalized = (arr - min_val) / (max_val - min_val)\n",
    "\n",
    "    return normalized"
   ]
  },
  {
   "cell_type": "code",
   "execution_count": 212,
   "metadata": {},
   "outputs": [],
   "source": [
    "attacks = pd.read_csv(DATASET_ATTACK)\n",
    "normals = pd.read_csv(DATASET_NORMAL)\n",
    "\n",
    "attacks_bytes = attacks['bytes']\n",
    "normals_bytes = attacks['bytes']"
   ]
  },
  {
   "cell_type": "code",
   "execution_count": 225,
   "metadata": {},
   "outputs": [],
   "source": [
    "def extract_entropy_histogram(dataset, *, export_csvfile, export_directory):\n",
    "    with open(os.path.join(export_directory, export_csvfile), 'w', newline='') as f:\n",
    "        writer = csv.writer(f)\n",
    "        writer.writerow(['index', 'path', 'filename', 'bytes'])\n",
    "\n",
    "        for i, bytes_str in enumerate(dataset['bytes']):\n",
    "            bs = json.loads(bytes_str)\n",
    "            counter = Counter(bs)\n",
    "            bc = [counter[i] for i in range(0, 256)]\n",
    "            \n",
    "            entropy = get_byte_entropy(bc)\n",
    "            normalized = normalize_minmax(entropy)\n",
    "            normalized = np.log(normalized + 1) / np.log(2) * 255.0\n",
    "            \n",
    "            writer.writerow([i, dataset['path'][i], dataset['filename'][i], json.dumps(normalized.tolist())])\n",
    "            export_image(os.path.join(export_directory, f'dataset_{i}.png'), np.round(normalized, 0).tolist())"
   ]
  },
  {
   "cell_type": "code",
   "execution_count": 227,
   "metadata": {},
   "outputs": [],
   "source": [
    "EXPORT_ATTACK_PATH = os.path.join(EXPORT_PATH, 'attack')\n",
    "EXPORT_NORMAL_PATH = os.path.join(EXPORT_PATH, 'normal')\n",
    "os.makedirs(EXPORT_ATTACK_PATH, exist_ok=True)\n",
    "os.makedirs(EXPORT_NORMAL_PATH, exist_ok=True)\n",
    "\n",
    "extract_entropy_histogram(attacks, export_csvfile='attack_entropy.csv', export_directory=EXPORT_ATTACK_PATH)\n",
    "extract_entropy_histogram(normals, export_csvfile='normal_entropy.csv', export_directory=EXPORT_NORMAL_PATH)\n"
   ]
  },
  {
   "cell_type": "code",
   "execution_count": 217,
   "metadata": {},
   "outputs": [],
   "source": [
    "\n",
    "with open(EXPORT_PATH + f'/attack_entropy.csv', 'w', newline='') as f:\n",
    "    writer = csv.writer(f)\n",
    "    writer.writerow(['index', 'path', 'filename', 'bytes'])\n",
    "\n",
    "    arr = []\n",
    "    for i, bytes_str in enumerate(attacks['bytes']):\n",
    "        bs = json.loads(bytes_str)\n",
    "        counter = Counter(bs)\n",
    "        bc = [counter[i] for i in range(0, 256)]\n",
    "        \n",
    "        entropy = get_byte_entropy(bc)\n",
    "        normalized = normalize_minmax(entropy)\n",
    "        normalized = np.log(normalized + 1) / np.log(2) * 255.0\n",
    "        \n",
    "        writer.writerow([i, attacks['path'][i], attacks['filename'][i], json.dumps(normalized.tolist())])\n",
    "        export_image(EXPORT_PATH + f'/normal{i}.png', np.round(normalized, 0).tolist())"
   ]
  },
  {
   "cell_type": "code",
   "execution_count": 169,
   "metadata": {},
   "outputs": [
    {
     "data": {
      "text/plain": [
       "0.0"
      ]
     },
     "execution_count": 169,
     "metadata": {},
     "output_type": "execute_result"
    }
   ],
   "source": [
    "np.log(1) / np.log(2)"
   ]
  }
 ],
 "metadata": {
  "kernelspec": {
   "display_name": "venv",
   "language": "python",
   "name": "python3"
  },
  "language_info": {
   "codemirror_mode": {
    "name": "ipython",
    "version": 3
   },
   "file_extension": ".py",
   "mimetype": "text/x-python",
   "name": "python",
   "nbconvert_exporter": "python",
   "pygments_lexer": "ipython3",
   "version": "3.12.6"
  }
 },
 "nbformat": 4,
 "nbformat_minor": 2
}
