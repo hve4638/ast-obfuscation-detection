{
 "cells": [
  {
   "cell_type": "code",
   "execution_count": 4,
   "metadata": {},
   "outputs": [],
   "source": [
    "import numpy as np\n",
    "import pandas as pd\n",
    "import os\n",
    "import csv, json\n",
    "import math\n",
    "import re\n",
    "from PIL import Image\n",
    "\n",
    "from collections import Counter"
   ]
  },
  {
   "cell_type": "code",
   "execution_count": 5,
   "metadata": {},
   "outputs": [],
   "source": [
    "class Stop(Exception):\n",
    "    pass\n",
    "\n",
    "class Continue(Exception):\n",
    "    pass"
   ]
  },
  {
   "cell_type": "code",
   "execution_count": 6,
   "metadata": {},
   "outputs": [],
   "source": [
    "# main 템플릿\n",
    "\n",
    "def main(callback, *,\n",
    "         files=None,\n",
    "         dirs=None,\n",
    "         dirs_filter=lambda x: True\n",
    "         ):\n",
    "    index:int = 0\n",
    "    if files:\n",
    "        for filename in files:\n",
    "            try:\n",
    "                callback(index, filename)\n",
    "            except Continue:\n",
    "                pass\n",
    "            except Stop:\n",
    "                return 0\n",
    "            finally:\n",
    "                index += 1\n",
    "    if dirs:\n",
    "        for d in dirs:\n",
    "            for dirpath, _, filenames in os.walk(d):\n",
    "                for filename in filenames:\n",
    "                    target = os.path.join(dirpath, filename)\n",
    "                    if not dirs_filter(target):\n",
    "                        continue\n",
    "                    try:\n",
    "                        callback(index, target)\n",
    "                    except Continue:\n",
    "                        pass\n",
    "                    except Stop:\n",
    "                        return 0\n",
    "                    finally:\n",
    "                        index += 1"
   ]
  },
  {
   "cell_type": "code",
   "execution_count": 43,
   "metadata": {},
   "outputs": [],
   "source": [
    "OUTPUT_PATH = '../export/scaled'\n",
    "\n",
    "dirs = [\n",
    "    '../export/',\n",
    "]\n",
    "\n",
    "keywords = [\n",
    "    'IseSteroids',\n",
    "    'nvoke',\n",
    "    'attack',\n",
    "]\n",
    "\n",
    "def dirs_filter(target:str):\n",
    "    if not target.endswith('.csv'):\n",
    "        return False\n",
    "    for keyword in keywords:\n",
    "        return True\n",
    "        if keyword in target:\n",
    "            return True\n",
    "    return False"
   ]
  },
  {
   "cell_type": "code",
   "execution_count": null,
   "metadata": {},
   "outputs": [],
   "source": [
    "def make_image(bs, *, scale_factor=1):\n",
    "    bs = np.array(bs, dtype=np.uint8)\n",
    "    img = Image.fromarray(bs, 'L')\n",
    "    if scale_factor == 1:\n",
    "        return img\n",
    "    else:\n",
    "        return img.resize((img.width * scale_factor, img.height * scale_factor), Image.NEAREST)\n",
    "\n",
    "def scale_image(dataset:pd.DataFrame, *, identifier, scale_factor=2):\n",
    "    exportdir = os.path.join(OUTPUT_PATH, f'x{scale_factor}', identifier)\n",
    "    os.makedirs(exportdir, exist_ok=True)\n",
    "    for index, row in dataset.iterrows():\n",
    "        filename, _ = os.path.splitext(row['filename'])\n",
    "        output = os.path.join(exportdir, f'#{index}_{filename}.png')\n",
    "        bs = json.loads(row['bytes'])\n",
    "        pixels = [bs[i:i+16] for i in range(0, len(bs), 16)]\n",
    "        scaled = make_image(pixels, scale_factor=scale_factor)\n",
    "        scaled.save(output)\n",
    "    pass\n",
    "\n",
    "def proc(index:int, target:str):\n",
    "    identifier = os.path.splitext(os.path.split(target)[-1])[0]\n",
    "    dataset = pd.read_csv(target)\n",
    "    scale_image(dataset, identifier=identifier, scale_factor=1)\n",
    "    # scale_image(dataset, identifier=identifier, scale_factor=2)\n",
    "    # scale_image(dataset, identifier=identifier, scale_factor=4)\n",
    "    # scale_image(dataset, identifier=identifier, scale_factor=8)\n",
    "    # scale_image(dataset, identifier=identifier, scale_factor=16)"
   ]
  },
  {
   "cell_type": "code",
   "execution_count": 45,
   "metadata": {},
   "outputs": [],
   "source": [
    "main(proc, dirs=dirs, dirs_filter=dirs_filter)"
   ]
  },
  {
   "cell_type": "code",
   "execution_count": null,
   "metadata": {},
   "outputs": [
    {
     "data": {
      "text/plain": [
       "('1234', '')"
      ]
     },
     "execution_count": 24,
     "metadata": {},
     "output_type": "execute_result"
    }
   ],
   "source": []
  },
  {
   "cell_type": "code",
   "execution_count": null,
   "metadata": {},
   "outputs": [],
   "source": []
  }
 ],
 "metadata": {
  "kernelspec": {
   "display_name": "venv",
   "language": "python",
   "name": "python3"
  },
  "language_info": {
   "codemirror_mode": {
    "name": "ipython",
    "version": 3
   },
   "file_extension": ".py",
   "mimetype": "text/x-python",
   "name": "python",
   "nbconvert_exporter": "python",
   "pygments_lexer": "ipython3",
   "version": "3.12.6"
  }
 },
 "nbformat": 4,
 "nbformat_minor": 2
}
